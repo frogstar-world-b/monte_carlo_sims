{
 "cells": [
  {
   "cell_type": "markdown",
   "metadata": {},
   "source": [
    "# Longest random walk \n",
    "What is the longest random walk you can take so that on average you will end up 4 blocks or less away from home? "
   ]
  },
  {
   "cell_type": "code",
   "execution_count": 1,
   "metadata": {
    "collapsed": true
   },
   "outputs": [],
   "source": [
    "import random"
   ]
  },
  {
   "cell_type": "code",
   "execution_count": 2,
   "metadata": {
    "collapsed": true
   },
   "outputs": [],
   "source": [
    "# one way to code a random walk\n",
    "def random_walk(n):\n",
    "    '''Simulates a random walk in 2D using n steps.'''\n",
    "    x, y = 0, 0\n",
    "    directions = ['east', 'west',  'north', 'south']\n",
    "    for i in range(n):\n",
    "        d = random.choice(directions)\n",
    "        if d == 'east':\n",
    "            x += 1\n",
    "        elif d == 'west':\n",
    "            x -= 1\n",
    "        elif d == 'north':\n",
    "            y += 1\n",
    "        else:\n",
    "            y -= 1\n",
    "    return (x, y)"
   ]
  },
  {
   "cell_type": "code",
   "execution_count": 3,
   "metadata": {},
   "outputs": [
    {
     "name": "stdout",
     "output_type": "stream",
     "text": [
      "Coordinates and distance from home after 15 steps:\n",
      "(-4, -3) distance from home = 7\n",
      "(-4, 1) distance from home = 5\n",
      "(3, 2) distance from home = 5\n",
      "(3, 0) distance from home = 3\n",
      "(3, -2) distance from home = 5\n",
      "(1, -6) distance from home = 7\n",
      "(-1, 2) distance from home = 3\n",
      "(-1, 4) distance from home = 5\n",
      "(0, -1) distance from home = 1\n",
      "(-2, -3) distance from home = 5\n"
     ]
    }
   ],
   "source": [
    "n_moves = 15\n",
    "print('Coordinates and distance from home after', \n",
    "      n_moves, 'steps:')\n",
    "for i in range(10):\n",
    "    walk = random_walk(n_moves)\n",
    "    print(walk, 'distance from home =', \n",
    "          abs(walk[0]) + abs(walk[1]))"
   ]
  },
  {
   "cell_type": "code",
   "execution_count": 4,
   "metadata": {},
   "outputs": [],
   "source": [
    "# a more concise way to code the random walk\n",
    "def random_walk2(n):\n",
    "    '''Simulates a random walk in 2D using n steps.'''\n",
    "    x, y = 0, 0\n",
    "    for i in range(n):\n",
    "        (dx, dy) = random.choice([(1, 0), (-1, 0),(0, 1), (0, -1)])\n",
    "        x += dx\n",
    "        y += dy\n",
    "    \n",
    "    return (x, y)"
   ]
  },
  {
   "cell_type": "code",
   "execution_count": 5,
   "metadata": {},
   "outputs": [
    {
     "name": "stdout",
     "output_type": "stream",
     "text": [
      "Coordinates and distance from home after 15 steps:\n",
      "(-4, -3) distance from home = 7\n",
      "(1, 4) distance from home = 5\n",
      "(-1, 2) distance from home = 3\n",
      "(-2, -3) distance from home = 5\n",
      "(-3, 4) distance from home = 7\n",
      "(6, -1) distance from home = 7\n",
      "(-1, -2) distance from home = 3\n",
      "(-4, -3) distance from home = 7\n",
      "(1, 0) distance from home = 1\n",
      "(-3, 0) distance from home = 3\n"
     ]
    }
   ],
   "source": [
    "print('Coordinates and distance from home after', \n",
    "      n_moves, 'steps:')\n",
    "for i in range(10):\n",
    "    walk = random_walk2(n_moves)\n",
    "    print(walk, 'distance from home =', \n",
    "          abs(walk[0]) + abs(walk[1]))"
   ]
  },
  {
   "cell_type": "code",
   "execution_count": 6,
   "metadata": {},
   "outputs": [
    {
     "name": "stdout",
     "output_type": "stream",
     "text": [
      "A walk with 1 steps has 100.0 %  chance of ending up within 4 blocks from home\n",
      "A walk with 2 steps has 100.0 %  chance of ending up within 4 blocks from home\n",
      "A walk with 3 steps has 100.0 %  chance of ending up within 4 blocks from home\n",
      "A walk with 4 steps has 100.0 %  chance of ending up within 4 blocks from home\n",
      "A walk with 5 steps has 88.18 %  chance of ending up within 4 blocks from home\n",
      "A walk with 6 steps has 93.92 %  chance of ending up within 4 blocks from home\n",
      "A walk with 7 steps has 76.385 %  chance of ending up within 4 blocks from home\n",
      "A walk with 8 steps has 86.545 %  chance of ending up within 4 blocks from home\n",
      "A walk with 9 steps has 67.46 %  chance of ending up within 4 blocks from home\n",
      "A walk with 10 steps has 79.305 %  chance of ending up within 4 blocks from home\n",
      "A walk with 11 steps has 59.595 %  chance of ending up within 4 blocks from home\n",
      "A walk with 12 steps has 72.53 %  chance of ending up within 4 blocks from home\n",
      "A walk with 13 steps has 53.39 %  chance of ending up within 4 blocks from home\n",
      "A walk with 14 steps has 66.865 %  chance of ending up within 4 blocks from home\n",
      "A walk with 15 steps has 48.545 %  chance of ending up within 4 blocks from home\n",
      "A walk with 16 steps has 62.49 %  chance of ending up within 4 blocks from home\n",
      "A walk with 17 steps has 43.705 %  chance of ending up within 4 blocks from home\n",
      "A walk with 18 steps has 57.96 %  chance of ending up within 4 blocks from home\n",
      "A walk with 19 steps has 41.155 %  chance of ending up within 4 blocks from home\n",
      "A walk with 20 steps has 54.375 %  chance of ending up within 4 blocks from home\n",
      "A walk with 21 steps has 38.365 %  chance of ending up within 4 blocks from home\n",
      "A walk with 22 steps has 50.92 %  chance of ending up within 4 blocks from home\n",
      "A walk with 23 steps has 35.695 %  chance of ending up within 4 blocks from home\n",
      "A walk with 24 steps has 47.87 %  chance of ending up within 4 blocks from home\n",
      "A walk with 25 steps has 32.715 %  chance of ending up within 4 blocks from home\n",
      "A walk with 26 steps has 44.77 %  chance of ending up within 4 blocks from home\n",
      "A walk with 27 steps has 31.28 %  chance of ending up within 4 blocks from home\n",
      "A walk with 28 steps has 42.635 %  chance of ending up within 4 blocks from home\n",
      "A walk with 29 steps has 28.85 %  chance of ending up within 4 blocks from home\n",
      "A walk with 30 steps has 41.11 %  chance of ending up within 4 blocks from home\n"
     ]
    }
   ],
   "source": [
    "# code a Monte Carlo simulation to estimate how long of a walk \n",
    "# will on average leave you 4 blocks or less away from home\n",
    "\n",
    "N = 20000 # number of monte carlo iterations\n",
    "maxlength = 31\n",
    "\n",
    "for walk_length in range(1, maxlength):\n",
    "    good_distances = 0\n",
    "    for i in range(N):\n",
    "        walk = random_walk2(walk_length)\n",
    "        distance = abs(walk[0]) + abs(walk[1])\n",
    "        if distance <= 4:\n",
    "            good_distances += 1\n",
    "    print('A walk with', walk_length, \n",
    "          'steps has', 100* good_distances/N, \n",
    "          '%  chance of ending up within 4 blocks from home')\n",
    "        "
   ]
  },
  {
   "cell_type": "markdown",
   "metadata": {},
   "source": [
    "The largest walk length with over 50% chance of ending up within 4 blocks from home is **22**."
   ]
  },
  {
   "cell_type": "markdown",
   "metadata": {},
   "source": [
    "# Estimating $\\pi$\n",
    "\n",
    "Consider a unit square, i.e. side length = 1. Then consider a circle inscribed within this square. Thus, the circle radius is 0.5.\n",
    "\n",
    "Let the area of the square be $S$, and the area of the circle be $C$. Then $S =1$ and $C = \\pi ~0.5^2$. Thus,\n",
    "\n",
    "$$\\frac{C}{S} = \\frac{\\pi}{4} \\implies ~\\pi = \\frac{4C}{S}$$.\n",
    "\n",
    "We can estimate $\\pi$ using the following Monte Carlo simulation:\n",
    "\n",
    "- Generate a large number ($N_s$) of uniformly distributed random points in the unit square.\n",
    "- Keep track of the number of points that were inside the circle ($N_c$).\n",
    "- Then $\\pi \\approx 4 N_c~/~N_s$."
   ]
  },
  {
   "cell_type": "code",
   "execution_count": 7,
   "metadata": {},
   "outputs": [
    {
     "name": "stdout",
     "output_type": "stream",
     "text": [
      "pi is approximately 3.141932\n"
     ]
    }
   ],
   "source": [
    "N = 2000000 # number of monte carlo iterations\n",
    "circle_points = 0\n",
    "\n",
    "for i in range(N):\n",
    "    x, y = random.random(), random.random()\n",
    "    if (x**2 + y**2) <= 1:\n",
    "        circle_points +=1\n",
    "\n",
    "print('pi is approximately', circle_points * 4/N)\n"
   ]
  },
  {
   "cell_type": "markdown",
   "metadata": {},
   "source": [
    "# Drunk falling off a cliff\n",
    "\n",
    "There once was a drunk man who wandered far too close to a cliff. From where he stands, one step forward would send the drunk man over the edge. He takes random steps, either towards or away from the cliff. At any step, his probability of taking a step away is 2/3 and a step towards the cliff is 1/3.\n",
    "\n",
    "What is the chance that he will escape the cliff?\n",
    "\n",
    "In the simple graph below, the drunk man is standing on block 1. He could move left and fall, or move right and be safe.\n",
    "\n",
    "$\\;\\;\\;\\;\\;\\;$$_1_$$_2_$$_3_$$_4_$$_5_$$\\dots$<br>\n",
    "$\\;\\;\\;\\;\\downarrow$<br>\n",
    "death!"
   ]
  },
  {
   "cell_type": "code",
   "execution_count": 8,
   "metadata": {},
   "outputs": [
    {
     "name": "stdout",
     "output_type": "stream",
     "text": [
      "If the man makes 1 moves, his chance of escaping the cliff is 0.665615\n",
      "If the man makes 2 moves, his chance of escaping the cliff is 0.66558\n",
      "If the man makes 3 moves, his chance of escaping the cliff is 0.66701\n",
      "If the man makes 4 moves, his chance of escaping the cliff is 0.66838\n",
      "If the man makes 5 moves, his chance of escaping the cliff is 0.66926\n",
      "If the man makes 6 moves, his chance of escaping the cliff is 0.66513\n",
      "If the man makes 7 moves, his chance of escaping the cliff is 0.665015\n",
      "If the man makes 8 moves, his chance of escaping the cliff is 0.66544\n",
      "If the man makes 9 moves, his chance of escaping the cliff is 0.66768\n",
      "If the man makes 10 moves, his chance of escaping the cliff is 0.666455\n",
      "If the man makes 11 moves, his chance of escaping the cliff is 0.667125\n",
      "If the man makes 12 moves, his chance of escaping the cliff is 0.66616\n",
      "If the man makes 13 moves, his chance of escaping the cliff is 0.667035\n",
      "If the man makes 14 moves, his chance of escaping the cliff is 0.66757\n",
      "If the man makes 15 moves, his chance of escaping the cliff is 0.66679\n",
      "If the man makes 16 moves, his chance of escaping the cliff is 0.665805\n",
      "If the man makes 17 moves, his chance of escaping the cliff is 0.666615\n",
      "If the man makes 18 moves, his chance of escaping the cliff is 0.666265\n",
      "If the man makes 19 moves, his chance of escaping the cliff is 0.6676\n",
      "If the man makes 20 moves, his chance of escaping the cliff is 0.66696\n",
      "If the man makes 21 moves, his chance of escaping the cliff is 0.66788\n",
      "If the man makes 22 moves, his chance of escaping the cliff is 0.66695\n",
      "If the man makes 23 moves, his chance of escaping the cliff is 0.66984\n",
      "If the man makes 24 moves, his chance of escaping the cliff is 0.667665\n",
      "If the man makes 25 moves, his chance of escaping the cliff is 0.667055\n",
      "If the man makes 26 moves, his chance of escaping the cliff is 0.66716\n",
      "If the man makes 27 moves, his chance of escaping the cliff is 0.66548\n",
      "If the man makes 28 moves, his chance of escaping the cliff is 0.666005\n",
      "If the man makes 29 moves, his chance of escaping the cliff is 0.666405\n",
      "If the man makes 30 moves, his chance of escaping the cliff is 0.665795\n",
      "If the man makes 31 moves, his chance of escaping the cliff is 0.6678\n",
      "If the man makes 32 moves, his chance of escaping the cliff is 0.665645\n",
      "If the man makes 33 moves, his chance of escaping the cliff is 0.66794\n",
      "If the man makes 34 moves, his chance of escaping the cliff is 0.66566\n",
      "If the man makes 35 moves, his chance of escaping the cliff is 0.666155\n",
      "If the man makes 36 moves, his chance of escaping the cliff is 0.66785\n",
      "If the man makes 37 moves, his chance of escaping the cliff is 0.66511\n",
      "If the man makes 38 moves, his chance of escaping the cliff is 0.66549\n",
      "If the man makes 39 moves, his chance of escaping the cliff is 0.666255\n",
      "If the man makes 40 moves, his chance of escaping the cliff is 0.667685\n",
      "If the man makes 41 moves, his chance of escaping the cliff is 0.668145\n",
      "If the man makes 42 moves, his chance of escaping the cliff is 0.66752\n",
      "If the man makes 43 moves, his chance of escaping the cliff is 0.66675\n",
      "If the man makes 44 moves, his chance of escaping the cliff is 0.666925\n",
      "If the man makes 45 moves, his chance of escaping the cliff is 0.66744\n",
      "If the man makes 46 moves, his chance of escaping the cliff is 0.66725\n",
      "If the man makes 47 moves, his chance of escaping the cliff is 0.66848\n",
      "If the man makes 48 moves, his chance of escaping the cliff is 0.666605\n",
      "If the man makes 49 moves, his chance of escaping the cliff is 0.665715\n",
      "If the man makes 50 moves, his chance of escaping the cliff is 0.6666\n"
     ]
    }
   ],
   "source": [
    "def random_cliff(n):\n",
    "    '''Simulates a drunk making n moves according to \n",
    "    a random walk in 1D.'''\n",
    "    # prob(move towards cliff) = 1/3\n",
    "    # prob(move away from cliff) = 2/3\n",
    "    # The man's starting position\n",
    "    x = 1\n",
    "    for i in range(n):\n",
    "        r = random.random()\n",
    "        if r <= 1/3:\n",
    "            # move left\n",
    "            x -= 1\n",
    "            # check if this move was safe\n",
    "            if x != 0:\n",
    "                return True\n",
    "            else:\n",
    "                return False\n",
    "        else:\n",
    "            # move right\n",
    "            x += 1\n",
    "            # check if this move was safe\n",
    "            if x != 0:\n",
    "                return True\n",
    "            else:\n",
    "                return False\n",
    "\n",
    "\n",
    "N = 200000 # number of Monte Carlo iterations\n",
    "\n",
    "def monte_carlo(N, n_moves):\n",
    "    safe_count = 0\n",
    "    # simulate N different scenarios, each with n_moves\n",
    "    for i in range(N):\n",
    "        if random_cliff(n_moves) is True:\n",
    "            # record escaping the cliff\n",
    "            safe_count += 1\n",
    "\n",
    "    return(safe_count/N)\n",
    "\n",
    "# consider scenarios where the man can make up to 50 moves\n",
    "for n_moves in range(1,51):\n",
    "    print('If the man makes', n_moves, \n",
    "          'moves, his chance of escaping the cliff is',\n",
    "          monte_carlo(N, n_moves))\n"
   ]
  },
  {
   "cell_type": "markdown",
   "metadata": {},
   "source": [
    "As the number of possible moves continues to grow, the probability of escaping seems to be hovering around $2/3$ "
   ]
  }
 ],
 "metadata": {
  "kernelspec": {
   "display_name": "Python 3",
   "language": "python",
   "name": "python3"
  },
  "language_info": {
   "codemirror_mode": {
    "name": "ipython",
    "version": 3
   },
   "file_extension": ".py",
   "mimetype": "text/x-python",
   "name": "python",
   "nbconvert_exporter": "python",
   "pygments_lexer": "ipython3",
   "version": "3.6.3"
  }
 },
 "nbformat": 4,
 "nbformat_minor": 2
}
